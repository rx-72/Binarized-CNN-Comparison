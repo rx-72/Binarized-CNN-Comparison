{
 "cells": [
  {
   "cell_type": "code",
   "execution_count": 1,
   "id": "3cef0327-3c5a-4faa-bbf4-19234e40ce12",
   "metadata": {},
   "outputs": [],
   "source": [
    "import torch\n",
    "import torch.nn as nn\n",
    "import torch.optim as optim\n",
    "import torch.nn.functional as F\n",
    "from torch.utils.data import DataLoader\n",
    "from torchvision import datasets, transforms, models\n",
    "import torchvision.models as models\n",
    "import torch.cuda.amp as amp\n",
    "import os\n",
    "import shutil\n",
    "import zipfile\n",
    "from PIL import Image\n",
    "import matplotlib.pyplot as plt\n",
    "import shutil\n",
    "import numpy as np\n",
    "import gc\n",
    "import IPython\n",
    "import os\n",
    "os.environ['PYTORCH_CUDA_ALLOC_CONF'] = 'expandable_segments:True'\n",
    "\n",
    "checkpoint_dir = \"model_checkpoints\"\n",
    "if os.path.exists(checkpoint_dir):\n",
    "    shutil.rmtree(checkpoint_dir)\n",
    "os.makedirs(checkpoint_dir, exist_ok=True)\n",
    "torch.cuda.empty_cache()"
   ]
  },
  {
   "cell_type": "code",
   "execution_count": 2,
   "id": "45b27e9c-4fd7-4875-8fb7-e57fa1d08a8f",
   "metadata": {},
   "outputs": [],
   "source": [
    "#seed = 42\n",
    "#torch.manual_seed(seed)\n",
    "#np.random.seed(seed)"
   ]
  },
  {
   "cell_type": "code",
   "execution_count": 2,
   "id": "ae546394-da55-4c64-8ae5-77ca1f814fd3",
   "metadata": {},
   "outputs": [
    {
     "name": "stdout",
     "output_type": "stream",
     "text": [
      "Using device: cuda\n"
     ]
    }
   ],
   "source": [
    "device = torch.device('cuda' if torch.cuda.is_available() else 'cpu')\n",
    "print(f'Using device: {device}')"
   ]
  },
  {
   "cell_type": "code",
   "execution_count": 3,
   "id": "c7b9f680-d62f-43fc-8e71-999498499d76",
   "metadata": {},
   "outputs": [
    {
     "name": "stdout",
     "output_type": "stream",
     "text": [
      "After Clearing - Free memory: 11034.06 MB / 11172.19 MB\n"
     ]
    }
   ],
   "source": [
    "def check_and_clear_cuda_memory():\n",
    "    free_mem, total_mem = torch.cuda.mem_get_info()\n",
    "    print(f\"Before Clearing - Free memory: {free_mem / 1024**2:.2f} MB / {total_mem / 1024**2:.2f} MB\")\n",
    "\n",
    "    gc.collect()\n",
    "    torch.cuda.empty_cache()\n",
    "    IPython.display.clear_output(wait=True)  # Clear Jupyter output\n",
    "\n",
    "    free_mem, total_mem = torch.cuda.mem_get_info()\n",
    "    print(f\"After Clearing - Free memory: {free_mem / 1024**2:.2f} MB / {total_mem / 1024**2:.2f} MB\")\n",
    "\n",
    "check_and_clear_cuda_memory()"
   ]
  },
  {
   "cell_type": "code",
   "execution_count": 4,
   "id": "b9f1888f-2616-4bcf-a493-487d30439209",
   "metadata": {},
   "outputs": [],
   "source": [
    "data_dir = \"tiny-imagenet-200\""
   ]
  },
  {
   "cell_type": "code",
   "execution_count": 5,
   "id": "cd763021-e61d-4200-bd03-cabdff460990",
   "metadata": {},
   "outputs": [],
   "source": [
    "train_transforms = transforms.Compose([\n",
    "    transforms.RandomResizedCrop(224),\n",
    "    transforms.RandomHorizontalFlip(),\n",
    "    transforms.RandomVerticalFlip(p=0.2),\n",
    "    transforms.ColorJitter(brightness=0.2, contrast=0.2, saturation=0.2, hue=0.1),\n",
    "    transforms.RandomRotation(15),\n",
    "    transforms.RandomAffine(degrees=15, translate=(0.1, 0.1), scale=(0.9, 1.1), shear=10),\n",
    "    transforms.RandomPerspective(distortion_scale=0.2, p=0.5),\n",
    "    transforms.RandomGrayscale(p=0.1),\n",
    "    transforms.ToTensor(),\n",
    "    transforms.Normalize(mean=[0.485, 0.456, 0.406], std=[0.229, 0.224, 0.225]),\n",
    "    transforms.GaussianBlur(kernel_size=3, sigma=(0.1, 2.0)),\n",
    "    transforms.RandomErasing(p=0.5, scale=(0.02, 0.2), ratio=(0.3, 3.3))\n",
    "])\n",
    "\n",
    "\n",
    "val_transforms = transforms.Compose([\n",
    "    transforms.Resize(256),\n",
    "    transforms.CenterCrop(224),\n",
    "    transforms.ToTensor(),\n",
    "    transforms.Normalize(mean=[0.485, 0.456, 0.406], std=[0.229, 0.224, 0.225])\n",
    "])"
   ]
  },
  {
   "cell_type": "code",
   "execution_count": 6,
   "id": "13d893c3-4cec-4301-9075-3c582afdfcb8",
   "metadata": {},
   "outputs": [
    {
     "name": "stdout",
     "output_type": "stream",
     "text": [
      "<class 'PIL.JpegImagePlugin.JpegImageFile'>\n"
     ]
    }
   ],
   "source": [
    "from PIL import Image\n",
    "img_path = \"tiny-imagenet-200/train/n01443537/images/n01443537_0.JPEG\"\n",
    "img = Image.open(img_path)\n",
    "print(type(img))"
   ]
  },
  {
   "cell_type": "code",
   "execution_count": 7,
   "id": "2b668f16-630b-411e-9bcf-0809603b69e8",
   "metadata": {},
   "outputs": [],
   "source": [
    "#subset_size = 8000  # Adjust size , max is 100000\n",
    "#train_dataset_full = datasets.ImageFolder(os.path.join(data_dir, 'train'), transform=train_transforms)\n",
    "#indices = np.random.choice(len(train_dataset_full), subset_size, replace=False)  # Fixed subset indices\n",
    "#train_dataset = torch.utils.data.Subset(train_dataset_full, indices)\n",
    "#train_dataset = torch.utils.data.Subset(train_dataset_full, range(subset_size))\n",
    "train_dataset = datasets.ImageFolder(os.path.join(data_dir, 'train'), transform=train_transforms)\n",
    "val_dataset = datasets.ImageFolder(os.path.join(data_dir, 'val'), transform=val_transforms)"
   ]
  },
  {
   "cell_type": "code",
   "execution_count": 8,
   "id": "f757ada0-81af-4963-b5b4-b694b495e64f",
   "metadata": {},
   "outputs": [],
   "source": [
    "def create_dataloaders(batch_size):\n",
    "    train_loader = DataLoader(train_dataset, batch_size=batch_size, shuffle=True, num_workers=8,  pin_memory=True, drop_last=True)\n",
    "    val_loader = DataLoader(val_dataset, batch_size=batch_size, shuffle=False, num_workers=8,  pin_memory=True,  drop_last=True)\n",
    "    return train_loader, val_loader"
   ]
  },
  {
   "cell_type": "code",
   "execution_count": 9,
   "id": "1b463564-2b49-4999-b57c-bd537439efc2",
   "metadata": {},
   "outputs": [
    {
     "data": {
      "text/plain": [
       "CNN(\n",
       "  (conv1): Conv2d(3, 64, kernel_size=(7, 7), stride=(2, 2), padding=(3, 3), bias=False)\n",
       "  (bn1): BatchNorm2d(64, eps=1e-05, momentum=0.1, affine=True, track_running_stats=True)\n",
       "  (conv2): Conv2d(64, 64, kernel_size=(3, 3), stride=(1, 1), padding=(1, 1), bias=False)\n",
       "  (bn2): BatchNorm2d(64, eps=1e-05, momentum=0.1, affine=True, track_running_stats=True)\n",
       "  (conv3): Conv2d(64, 128, kernel_size=(3, 3), stride=(2, 2), padding=(1, 1), bias=False)\n",
       "  (bn3): BatchNorm2d(128, eps=1e-05, momentum=0.1, affine=True, track_running_stats=True)\n",
       "  (conv4): Conv2d(128, 128, kernel_size=(3, 3), stride=(1, 1), padding=(1, 1), bias=False)\n",
       "  (bn4): BatchNorm2d(128, eps=1e-05, momentum=0.1, affine=True, track_running_stats=True)\n",
       "  (conv5): Conv2d(128, 256, kernel_size=(3, 3), stride=(2, 2), padding=(1, 1), bias=False)\n",
       "  (bn5): BatchNorm2d(256, eps=1e-05, momentum=0.1, affine=True, track_running_stats=True)\n",
       "  (conv6): Conv2d(256, 256, kernel_size=(3, 3), stride=(1, 1), padding=(1, 1), bias=False)\n",
       "  (bn6): BatchNorm2d(256, eps=1e-05, momentum=0.1, affine=True, track_running_stats=True)\n",
       "  (conv7): Conv2d(256, 512, kernel_size=(3, 3), stride=(2, 2), padding=(1, 1), bias=False)\n",
       "  (bn7): BatchNorm2d(512, eps=1e-05, momentum=0.1, affine=True, track_running_stats=True)\n",
       "  (conv8): Conv2d(512, 512, kernel_size=(3, 3), stride=(1, 1), padding=(1, 1), bias=False)\n",
       "  (bn8): BatchNorm2d(512, eps=1e-05, momentum=0.1, affine=True, track_running_stats=True)\n",
       "  (dropout): Dropout(p=0.5, inplace=False)\n",
       "  (adaptive_pool): AdaptiveAvgPool2d(output_size=(1, 1))\n",
       "  (fc1): Linear(in_features=512, out_features=512, bias=True)\n",
       "  (fc2): Linear(in_features=512, out_features=200, bias=True)\n",
       ")"
      ]
     },
     "execution_count": 9,
     "metadata": {},
     "output_type": "execute_result"
    }
   ],
   "source": [
    "class CNN(nn.Module):\n",
    "    def __init__(self):\n",
    "        super(CNN, self).__init__()\n",
    "        self.conv1 = nn.Conv2d(3, 64, kernel_size=7, stride=2, padding=3, bias=False)\n",
    "        self.bn1 = nn.BatchNorm2d(64)\n",
    "        self.conv2 = nn.Conv2d(64, 64, kernel_size=3, stride=1, padding=1, bias=False)\n",
    "        self.bn2 = nn.BatchNorm2d(64)\n",
    "\n",
    "        self.conv3 = nn.Conv2d(64, 128, kernel_size=3, stride=2, padding=1, bias=False)\n",
    "        self.bn3 = nn.BatchNorm2d(128)\n",
    "        self.conv4 = nn.Conv2d(128, 128, kernel_size=3, stride=1, padding=1, bias=False)\n",
    "        self.bn4 = nn.BatchNorm2d(128)\n",
    "\n",
    "        self.conv5 = nn.Conv2d(128, 256, kernel_size=3, stride=2, padding=1, bias=False)\n",
    "        self.bn5 = nn.BatchNorm2d(256)\n",
    "        self.conv6 = nn.Conv2d(256, 256, kernel_size=3, stride=1, padding=1, bias=False)\n",
    "        self.bn6 = nn.BatchNorm2d(256)\n",
    "\n",
    "        self.conv7 = nn.Conv2d(256, 512, kernel_size=3, stride=2, padding=1, bias=False)\n",
    "        self.bn7 = nn.BatchNorm2d(512)\n",
    "        self.conv8 = nn.Conv2d(512, 512, kernel_size=3, stride=1, padding=1, bias=False)\n",
    "        self.bn8 = nn.BatchNorm2d(512)\n",
    "\n",
    "        self.dropout = nn.Dropout(0.5)\n",
    "        self.adaptive_pool = nn.AdaptiveAvgPool2d((1, 1))\n",
    "\n",
    "        self.fc1 = nn.Linear(512, 512)\n",
    "        self.fc2 = nn.Linear(512, 200)\n",
    "\n",
    "        self.alpha_conv = nn.Parameter(torch.full((1,), 0.01))  # Learnable α for conv layers\n",
    "        self.alpha_fc = nn.Parameter(torch.full((1,), 0.01))\n",
    "\n",
    "    def forward(self, x):\n",
    "        x = F.prelu(self.bn1(self.conv1(x)), self.alpha_conv)\n",
    "        x = F.prelu(self.bn2(self.conv2(x)), self.alpha_conv)\n",
    "\n",
    "        x = F.prelu(self.bn3(self.conv3(x)), self.alpha_conv)\n",
    "        x = F.prelu(self.bn4(self.conv4(x)), self.alpha_conv)\n",
    "\n",
    "        x = F.prelu(self.bn5(self.conv5(x)), self.alpha_conv)\n",
    "        x = F.prelu(self.bn6(self.conv6(x)), self.alpha_conv)\n",
    "\n",
    "        x = F.prelu(self.bn7(self.conv7(x)), self.alpha_conv)\n",
    "        x = F.prelu(self.bn8(self.conv8(x)), self.alpha_conv)\n",
    "\n",
    "        x = self.adaptive_pool(x)\n",
    "        x = torch.flatten(x, start_dim=1)\n",
    "        \n",
    "        x = self.dropout(F.prelu(self.fc1(x), self.alpha_fc))\n",
    "        x = self.fc2(x)\n",
    "\n",
    "        return F.log_softmax(x, dim=1)\n",
    "\n",
    "# Initialize model with Kaiming initialization\n",
    "def init_weights(m):\n",
    "    if isinstance(m, nn.Conv2d) or isinstance(m, nn.Linear):\n",
    "        nn.init.kaiming_normal_(m.weight, nonlinearity='relu')\n",
    "        if m.bias is not None:\n",
    "            nn.init.zeros_(m.bias)\n",
    "\n",
    "CNN().to(device)"
   ]
  },
  {
   "cell_type": "code",
   "execution_count": 10,
   "id": "89e3f297-a679-4cd7-86b9-940267acd407",
   "metadata": {},
   "outputs": [],
   "source": [
    "def evaluate_model(model, data_loader, dataset_name=\"Validation\"):\n",
    "    model.eval()\n",
    "    correct = 0\n",
    "    total = 0\n",
    "    \n",
    "    with torch.no_grad():\n",
    "        for inputs, labels in data_loader:\n",
    "            inputs, labels = inputs.to(device), labels.to(device)\n",
    "            outputs = model(inputs)\n",
    "            \n",
    "            _, predicted = torch.max(outputs, 1) #Accuracy computation\n",
    "            total += labels.size(0) \n",
    "            correct += (predicted == labels).sum().item()\n",
    "\n",
    "    accuracy = correct / total\n",
    "    print(f'{dataset_name} Accuracy: {accuracy:.4f}')\n",
    "    return accuracy\n",
    "\n",
    "train_acc_list, val_acc_list, train_loss_list, val_loss_list, epoch_listings = [], [], [], [], []"
   ]
  },
  {
   "cell_type": "code",
   "execution_count": 12,
   "id": "948ba7a4-57d1-48f0-a0f4-bfac2a36e437",
   "metadata": {
    "jupyter": {
     "source_hidden": true
    }
   },
   "outputs": [],
   "source": [
    "def train_model(model, train_loader, val_loader, criterion, optimizer, scheduler):\n",
    "    num_epochs = 100\n",
    "    patience = 5  \n",
    "    min_val_loss = float('inf')\n",
    "    patience_counter = 0\n",
    "\n",
    "    for epoch in range(num_epochs):\n",
    "        model.train()\n",
    "        running_loss_train = 0.0\n",
    "        correct_train, total_train = 0, 0\n",
    "\n",
    "        for inputs, labels in train_loader:\n",
    "            inputs, labels = inputs.to(device), labels.to(device)\n",
    "            optimizer.zero_grad()\n",
    "\n",
    "            outputs = model(inputs)\n",
    "            loss = criterion(outputs, labels)\n",
    "            loss.backward()\n",
    "            optimizer.step()\n",
    "\n",
    "            running_loss_train += loss.item() * inputs.size(0)\n",
    "            _, predicted = torch.max(outputs, 1)\n",
    "            correct_train += (predicted == labels).sum().item()\n",
    "            total_train += labels.size(0)\n",
    "\n",
    "        scheduler.step()\n",
    "\n",
    "        epoch_loss_train = running_loss_train / len(train_loader.dataset)\n",
    "        train_accuracy = correct_train / total_train\n",
    "\n",
    "        # Validation phase\n",
    "        model.eval()\n",
    "        running_loss_val = 0.0\n",
    "        correct_val, total_val = 0, 0\n",
    "\n",
    "        with torch.no_grad():\n",
    "            for inputs, labels in val_loader:\n",
    "                inputs, labels = inputs.to(device), labels.to(device)\n",
    "                outputs = model(inputs)\n",
    "                loss = criterion(outputs, labels)\n",
    "                running_loss_val += loss.item() * inputs.size(0)\n",
    "\n",
    "                _, predicted = torch.max(outputs, 1)\n",
    "                correct_val += (predicted == labels).sum().item()\n",
    "                total_val += labels.size(0)\n",
    "\n",
    "        epoch_loss_val = running_loss_val / len(val_loader.dataset)\n",
    "        val_accuracy = correct_val / total_val\n",
    "\n",
    "        print(f'Epoch {epoch+1}/{num_epochs}, Train Loss: {epoch_loss_train:.4f}, Val Loss: {epoch_loss_val:.4f}')\n",
    "        print(f'Train Accuracy: {train_accuracy:.4f}, Val Accuracy: {val_accuracy:.4f}\\n')\n",
    "\n",
    "        # Early Stopping Check\n",
    "        if epoch_loss_val < min_val_loss:\n",
    "            min_val_loss = epoch_loss_val\n",
    "            patience_counter = 0  # Reset patience\n",
    "            # Save best model\n",
    "            #torch.save(model.state_dict(), os.path.join(checkpoint_dir, 'best_model.pth'))\n",
    "            print(\"Best model\")\n",
    "        else:\n",
    "            patience_counter += 1\n",
    "\n",
    "        if patience_counter >= patience:\n",
    "            print(\"Early stopping triggered.\")\n",
    "            return min_val_loss\n",
    "        \n",
    "    print(\"Training complete.\")\n",
    "    return min_val_loss"
   ]
  },
  {
   "cell_type": "markdown",
   "id": "cc575c82-7363-4714-8b8d-55e278c5c18a",
   "metadata": {},
   "source": [
    "Val Loss with (Smoothing: 0.05, LR: 0.05, Weight Decay: 1e-04, Batch Size: 32, Step Size: 1, Gamma: 0.5)"
   ]
  },
  {
   "cell_type": "code",
   "execution_count": 33,
   "id": "c2d7e7ce-a35e-4220-a703-3de619c6a8a1",
   "metadata": {
    "collapsed": true,
    "jupyter": {
     "outputs_hidden": true,
     "source_hidden": true
    }
   },
   "outputs": [
    {
     "name": "stdout",
     "output_type": "stream",
     "text": [
      "\n",
      "Training with Smoothing: 0.05, LR: 0.0001, Weight Decay: 0.0001, Batch Size: 32, Step Size: 4, Gamma: 0.5\n"
     ]
    },
    {
     "ename": "KeyboardInterrupt",
     "evalue": "",
     "output_type": "error",
     "traceback": [
      "\u001b[0;31m---------------------------------------------------------------------------\u001b[0m",
      "\u001b[0;31mKeyboardInterrupt\u001b[0m                         Traceback (most recent call last)",
      "Cell \u001b[0;32mIn[33], line 25\u001b[0m\n\u001b[1;32m     23\u001b[0m scheduler \u001b[38;5;241m=\u001b[39m optim\u001b[38;5;241m.\u001b[39mlr_scheduler\u001b[38;5;241m.\u001b[39mStepLR(optimizer, step_size\u001b[38;5;241m=\u001b[39mstep_size, gamma\u001b[38;5;241m=\u001b[39mgamma)\n\u001b[1;32m     24\u001b[0m train_loader, val_loader \u001b[38;5;241m=\u001b[39m create_dataloaders(batch_size)  \u001b[38;5;66;03m# Assume a function for this\u001b[39;00m\n\u001b[0;32m---> 25\u001b[0m min_val_loss \u001b[38;5;241m=\u001b[39m \u001b[43mtrain_model\u001b[49m\u001b[43m(\u001b[49m\u001b[43mmodel\u001b[49m\u001b[43m,\u001b[49m\u001b[43m \u001b[49m\u001b[43mtrain_loader\u001b[49m\u001b[43m,\u001b[49m\u001b[43m \u001b[49m\u001b[43mval_loader\u001b[49m\u001b[43m,\u001b[49m\u001b[43m \u001b[49m\u001b[43mcriterion\u001b[49m\u001b[43m,\u001b[49m\u001b[43m \u001b[49m\u001b[43moptimizer\u001b[49m\u001b[43m,\u001b[49m\u001b[43m \u001b[49m\u001b[43mscheduler\u001b[49m\u001b[43m)\u001b[49m  \u001b[38;5;66;03m# Train using your loop\u001b[39;00m\n\u001b[1;32m     26\u001b[0m \u001b[38;5;28mprint\u001b[39m(\u001b[38;5;124mf\u001b[39m\u001b[38;5;124m\"\u001b[39m\u001b[38;5;124mVal Loss with (Smoothing: \u001b[39m\u001b[38;5;132;01m{\u001b[39;00mlabel_smoothing\u001b[38;5;132;01m}\u001b[39;00m\u001b[38;5;124m, LR: \u001b[39m\u001b[38;5;132;01m{\u001b[39;00mlr\u001b[38;5;132;01m}\u001b[39;00m\u001b[38;5;124m, Weight Decay: \u001b[39m\u001b[38;5;132;01m{\u001b[39;00mweight_decay\u001b[38;5;132;01m}\u001b[39;00m\u001b[38;5;124m, Batch Size: \u001b[39m\u001b[38;5;132;01m{\u001b[39;00mbatch_size\u001b[38;5;132;01m}\u001b[39;00m\u001b[38;5;124m, Step Size: \u001b[39m\u001b[38;5;132;01m{\u001b[39;00mstep_size\u001b[38;5;132;01m}\u001b[39;00m\u001b[38;5;124m, Gamma: \u001b[39m\u001b[38;5;132;01m{\u001b[39;00mgamma\u001b[38;5;132;01m}\u001b[39;00m\u001b[38;5;124m):\u001b[39m\u001b[38;5;124m\"\u001b[39m)\n\u001b[1;32m     27\u001b[0m \u001b[38;5;28mprint\u001b[39m(\u001b[38;5;124mf\u001b[39m\u001b[38;5;124m\"\u001b[39m\u001b[38;5;132;01m{\u001b[39;00mmin_val_loss\u001b[38;5;132;01m}\u001b[39;00m\u001b[38;5;124m\"\u001b[39m)\n",
      "Cell \u001b[0;32mIn[32], line 21\u001b[0m, in \u001b[0;36mtrain_model\u001b[0;34m(model, train_loader, val_loader, criterion, optimizer, scheduler)\u001b[0m\n\u001b[1;32m     18\u001b[0m loss\u001b[38;5;241m.\u001b[39mbackward()\n\u001b[1;32m     19\u001b[0m optimizer\u001b[38;5;241m.\u001b[39mstep()\n\u001b[0;32m---> 21\u001b[0m running_loss_train \u001b[38;5;241m+\u001b[39m\u001b[38;5;241m=\u001b[39m \u001b[43mloss\u001b[49m\u001b[38;5;241;43m.\u001b[39;49m\u001b[43mitem\u001b[49m\u001b[43m(\u001b[49m\u001b[43m)\u001b[49m \u001b[38;5;241m*\u001b[39m inputs\u001b[38;5;241m.\u001b[39msize(\u001b[38;5;241m0\u001b[39m)\n\u001b[1;32m     22\u001b[0m _, predicted \u001b[38;5;241m=\u001b[39m torch\u001b[38;5;241m.\u001b[39mmax(outputs, \u001b[38;5;241m1\u001b[39m)\n\u001b[1;32m     23\u001b[0m correct_train \u001b[38;5;241m+\u001b[39m\u001b[38;5;241m=\u001b[39m (predicted \u001b[38;5;241m==\u001b[39m labels)\u001b[38;5;241m.\u001b[39msum()\u001b[38;5;241m.\u001b[39mitem()\n",
      "\u001b[0;31mKeyboardInterrupt\u001b[0m: "
     ]
    }
   ],
   "source": [
    "from itertools import product\n",
    "\n",
    "param_grid = {\n",
    "    'label_smoothing': [0.05],\n",
    "    'lr': [0.0001],\n",
    "    'weight_decay': [1e-4],\n",
    "    'batch_size': [32],\n",
    "    'step_size': [4],\n",
    "    'gamma': [0.5]\n",
    "}\n",
    "\n",
    "# Generate all possible parameter combinations\n",
    "param_combinations = list(product(*param_grid.values()))\n",
    "dct = {}\n",
    "for params in param_combinations:\n",
    "    label_smoothing, lr, weight_decay, batch_size, step_size, gamma = params\n",
    "    print()\n",
    "    print(f\"Training with Smoothing: {label_smoothing}, LR: {lr}, Weight Decay: {weight_decay}, Batch Size: {batch_size}, Step Size: {step_size}, Gamma: {gamma}\")\n",
    "\n",
    "    model = CNN().to(device)\n",
    "    criterion = nn.CrossEntropyLoss(label_smoothing=label_smoothing)\n",
    "    optimizer = optim.Adam(model.parameters(), lr=lr, weight_decay=weight_decay) #0.00005\n",
    "    scheduler = optim.lr_scheduler.StepLR(optimizer, step_size=step_size, gamma=gamma)\n",
    "    train_loader, val_loader = create_dataloaders(batch_size)  # Assume a function for this\n",
    "    min_val_loss = train_model(model, train_loader, val_loader, criterion, optimizer, scheduler)  # Train using your loop\n",
    "    print(f\"Val Loss with (Smoothing: {label_smoothing}, LR: {lr}, Weight Decay: {weight_decay}, Batch Size: {batch_size}, Step Size: {step_size}, Gamma: {gamma}):\")\n",
    "    print(f\"{min_val_loss}\")\n"
   ]
  },
  {
   "cell_type": "code",
   "execution_count": 11,
   "id": "907988b8-74d7-4ce2-9418-08df842ff380",
   "metadata": {},
   "outputs": [
    {
     "name": "stdout",
     "output_type": "stream",
     "text": [
      "Epoch 1/50, Train Loss: 5.1583, Val Loss: 5.5993\n",
      "Train Accuracy: 0.0188, Val Accuracy: 0.0015\n",
      "\n",
      "Best model\n",
      "Epoch 2/50, Train Loss: 4.9739, Val Loss: 6.0652\n",
      "Train Accuracy: 0.0297, Val Accuracy: 0.0002\n",
      "\n",
      "Epoch 3/50, Train Loss: 4.8137, Val Loss: 6.7652\n",
      "Train Accuracy: 0.0395, Val Accuracy: 0.0010\n",
      "\n",
      "Epoch 4/50, Train Loss: 4.6907, Val Loss: 6.7187\n",
      "Train Accuracy: 0.0520, Val Accuracy: 0.0022\n",
      "\n",
      "Epoch 5/50, Train Loss: 4.5912, Val Loss: 6.8030\n",
      "Train Accuracy: 0.0613, Val Accuracy: 0.0052\n",
      "\n",
      "Epoch 6/50, Train Loss: 4.5471, Val Loss: 7.3071\n",
      "Train Accuracy: 0.0658, Val Accuracy: 0.0041\n",
      "\n",
      "Epoch 7/50, Train Loss: 4.5023, Val Loss: 7.7927\n",
      "Train Accuracy: 0.0709, Val Accuracy: 0.0051\n",
      "\n",
      "Epoch 8/50, Train Loss: 4.4601, Val Loss: 7.3290\n",
      "Train Accuracy: 0.0756, Val Accuracy: 0.0061\n",
      "\n",
      "Epoch 9/50, Train Loss: 4.4144, Val Loss: 7.4187\n",
      "Train Accuracy: 0.0812, Val Accuracy: 0.0079\n",
      "\n",
      "Epoch 10/50, Train Loss: 4.3912, Val Loss: 7.9259\n",
      "Train Accuracy: 0.0844, Val Accuracy: 0.0058\n",
      "\n",
      "Epoch 11/50, Train Loss: 4.3682, Val Loss: 8.0020\n",
      "Train Accuracy: 0.0883, Val Accuracy: 0.0062\n",
      "\n",
      "Epoch 12/50, Train Loss: 4.3510, Val Loss: 8.3565\n",
      "Train Accuracy: 0.0898, Val Accuracy: 0.0054\n",
      "\n",
      "Epoch 13/50, Train Loss: 4.3257, Val Loss: 7.9416\n",
      "Train Accuracy: 0.0925, Val Accuracy: 0.0082\n",
      "\n",
      "Epoch 14/50, Train Loss: 4.3172, Val Loss: 8.0941\n",
      "Train Accuracy: 0.0918, Val Accuracy: 0.0071\n",
      "\n",
      "Epoch 15/50, Train Loss: 4.3065, Val Loss: 8.0048\n",
      "Train Accuracy: 0.0955, Val Accuracy: 0.0081\n",
      "\n",
      "Epoch 16/50, Train Loss: 4.2998, Val Loss: 7.8694\n",
      "Train Accuracy: 0.0948, Val Accuracy: 0.0084\n",
      "\n",
      "Epoch 17/50, Train Loss: 4.2886, Val Loss: 8.0992\n",
      "Train Accuracy: 0.0962, Val Accuracy: 0.0068\n",
      "\n",
      "Epoch 18/50, Train Loss: 4.2838, Val Loss: 8.1153\n",
      "Train Accuracy: 0.0975, Val Accuracy: 0.0073\n",
      "\n",
      "Epoch 19/50, Train Loss: 4.2823, Val Loss: 8.0464\n",
      "Train Accuracy: 0.0968, Val Accuracy: 0.0071\n",
      "\n",
      "Epoch 20/50, Train Loss: 4.2785, Val Loss: 8.2633\n",
      "Train Accuracy: 0.0984, Val Accuracy: 0.0077\n",
      "\n",
      "Epoch 21/50, Train Loss: 4.2678, Val Loss: 8.1392\n",
      "Train Accuracy: 0.0988, Val Accuracy: 0.0075\n",
      "\n",
      "Epoch 22/50, Train Loss: 4.2650, Val Loss: 8.0148\n",
      "Train Accuracy: 0.1003, Val Accuracy: 0.0079\n",
      "\n",
      "Epoch 23/50, Train Loss: 4.2613, Val Loss: 8.0824\n",
      "Train Accuracy: 0.0997, Val Accuracy: 0.0073\n",
      "\n",
      "Epoch 24/50, Train Loss: 4.2580, Val Loss: 8.1728\n",
      "Train Accuracy: 0.0994, Val Accuracy: 0.0081\n",
      "\n",
      "Epoch 25/50, Train Loss: 4.2591, Val Loss: 8.0841\n",
      "Train Accuracy: 0.1004, Val Accuracy: 0.0078\n",
      "\n",
      "Epoch 26/50, Train Loss: 4.2570, Val Loss: 8.1683\n",
      "Train Accuracy: 0.1000, Val Accuracy: 0.0072\n",
      "\n",
      "Epoch 27/50, Train Loss: 4.2525, Val Loss: 8.1422\n",
      "Train Accuracy: 0.1002, Val Accuracy: 0.0080\n",
      "\n",
      "Epoch 28/50, Train Loss: 4.2566, Val Loss: 8.0739\n",
      "Train Accuracy: 0.1007, Val Accuracy: 0.0089\n",
      "\n",
      "Epoch 29/50, Train Loss: 4.2537, Val Loss: 8.0538\n",
      "Train Accuracy: 0.1004, Val Accuracy: 0.0085\n",
      "\n",
      "Epoch 30/50, Train Loss: 4.2535, Val Loss: 8.0641\n",
      "Train Accuracy: 0.1010, Val Accuracy: 0.0085\n",
      "\n",
      "Epoch 31/50, Train Loss: 4.2497, Val Loss: 8.0918\n",
      "Train Accuracy: 0.1011, Val Accuracy: 0.0087\n",
      "\n",
      "Epoch 32/50, Train Loss: 4.2474, Val Loss: 8.0819\n",
      "Train Accuracy: 0.1009, Val Accuracy: 0.0084\n",
      "\n",
      "Epoch 33/50, Train Loss: 4.2498, Val Loss: 8.1609\n",
      "Train Accuracy: 0.1008, Val Accuracy: 0.0083\n",
      "\n",
      "Epoch 34/50, Train Loss: 4.2511, Val Loss: 8.1242\n",
      "Train Accuracy: 0.1019, Val Accuracy: 0.0084\n",
      "\n",
      "Epoch 35/50, Train Loss: 4.2515, Val Loss: 8.1138\n",
      "Train Accuracy: 0.1016, Val Accuracy: 0.0088\n",
      "\n",
      "Epoch 36/50, Train Loss: 4.2474, Val Loss: 8.0766\n",
      "Train Accuracy: 0.1023, Val Accuracy: 0.0088\n",
      "\n",
      "Epoch 37/50, Train Loss: 4.2492, Val Loss: 8.1066\n",
      "Train Accuracy: 0.1016, Val Accuracy: 0.0083\n",
      "\n",
      "Epoch 38/50, Train Loss: 4.2432, Val Loss: 8.1554\n",
      "Train Accuracy: 0.1029, Val Accuracy: 0.0082\n",
      "\n",
      "Epoch 39/50, Train Loss: 4.2466, Val Loss: 8.1017\n",
      "Train Accuracy: 0.1021, Val Accuracy: 0.0082\n",
      "\n",
      "Epoch 40/50, Train Loss: 4.2433, Val Loss: 8.1497\n",
      "Train Accuracy: 0.1027, Val Accuracy: 0.0084\n",
      "\n",
      "Epoch 41/50, Train Loss: 4.2507, Val Loss: 8.0107\n",
      "Train Accuracy: 0.1017, Val Accuracy: 0.0094\n",
      "\n",
      "Epoch 42/50, Train Loss: 4.2475, Val Loss: 8.1082\n",
      "Train Accuracy: 0.1013, Val Accuracy: 0.0088\n",
      "\n",
      "Epoch 43/50, Train Loss: 4.2516, Val Loss: 8.1225\n",
      "Train Accuracy: 0.1021, Val Accuracy: 0.0084\n",
      "\n",
      "Epoch 44/50, Train Loss: 4.2484, Val Loss: 8.0821\n",
      "Train Accuracy: 0.1020, Val Accuracy: 0.0084\n",
      "\n",
      "Epoch 45/50, Train Loss: 4.2460, Val Loss: 8.1284\n",
      "Train Accuracy: 0.1038, Val Accuracy: 0.0085\n",
      "\n",
      "Epoch 46/50, Train Loss: 4.2502, Val Loss: 8.0917\n",
      "Train Accuracy: 0.1010, Val Accuracy: 0.0088\n",
      "\n",
      "Epoch 47/50, Train Loss: 4.2468, Val Loss: 8.1002\n",
      "Train Accuracy: 0.1017, Val Accuracy: 0.0083\n",
      "\n",
      "Epoch 48/50, Train Loss: 4.2505, Val Loss: 8.1437\n",
      "Train Accuracy: 0.1010, Val Accuracy: 0.0084\n",
      "\n",
      "Epoch 49/50, Train Loss: 4.2479, Val Loss: 8.1485\n",
      "Train Accuracy: 0.1019, Val Accuracy: 0.0082\n",
      "\n",
      "Epoch 50/50, Train Loss: 4.2470, Val Loss: 8.1239\n",
      "Train Accuracy: 0.1023, Val Accuracy: 0.0086\n",
      "\n",
      "Training complete.\n"
     ]
    }
   ],
   "source": [
    "train_acc_list, val_acc_list, train_loss_list, val_loss_list, epoch_listings = [], [], [], [], []\n",
    "\n",
    "model = CNN().to(device)\n",
    "criterion = nn.CrossEntropyLoss()\n",
    "optimizer = optim.Adam(model.parameters(), lr=0.00005, weight_decay=5e-4)\n",
    "scheduler = optim.lr_scheduler.StepLR(optimizer, step_size=4, gamma=0.5)\n",
    "train_loader, val_loader = create_dataloaders(256)  # Assume a function for this\n",
    "\n",
    "num_epochs = 50\n",
    "min_val_loss = float('inf')\n",
    "\n",
    "for epoch in range(num_epochs):\n",
    "    epoch_listings.append(epoch)\n",
    "    model.train()\n",
    "    running_loss_train = 0.0\n",
    "    correct_train, total_train = 0, 0\n",
    "\n",
    "    for inputs, labels in train_loader:\n",
    "        inputs, labels = inputs.to(device), labels.to(device)\n",
    "        optimizer.zero_grad()\n",
    "\n",
    "        outputs = model(inputs)\n",
    "        loss = criterion(outputs, labels)\n",
    "        loss.backward()\n",
    "        optimizer.step()\n",
    "\n",
    "        running_loss_train += loss.item() * inputs.size(0)\n",
    "        _, predicted = torch.max(outputs, 1)\n",
    "        correct_train += (predicted == labels).sum().item()\n",
    "        total_train += labels.size(0)\n",
    "\n",
    "    scheduler.step()\n",
    "\n",
    "    epoch_loss_train = running_loss_train / len(train_loader.dataset)\n",
    "    train_accuracy = correct_train / total_train\n",
    "\n",
    "    train_acc_list.append(train_accuracy)\n",
    "    train_loss_list.append(epoch_loss_train)\n",
    "\n",
    "    # Validation phase\n",
    "    model.eval()\n",
    "    running_loss_val = 0.0\n",
    "    correct_val, total_val = 0, 0\n",
    "\n",
    "    with torch.no_grad():\n",
    "        for inputs, labels in val_loader:\n",
    "            inputs, labels = inputs.to(device), labels.to(device)\n",
    "            outputs = model(inputs)\n",
    "            loss = criterion(outputs, labels)\n",
    "            running_loss_val += loss.item() * inputs.size(0)\n",
    "\n",
    "            _, predicted = torch.max(outputs, 1)\n",
    "            correct_val += (predicted == labels).sum().item()\n",
    "            total_val += labels.size(0)\n",
    "\n",
    "    epoch_loss_val = running_loss_val / len(val_loader.dataset)\n",
    "    val_accuracy = correct_val / total_val\n",
    "\n",
    "    val_acc_list.append(val_accuracy)\n",
    "    val_loss_list.append(epoch_loss_val)\n",
    "\n",
    "    print(f'Epoch {epoch+1}/{num_epochs}, Train Loss: {epoch_loss_train:.4f}, Val Loss: {epoch_loss_val:.4f}')\n",
    "    print(f'Train Accuracy: {train_accuracy:.4f}, Val Accuracy: {val_accuracy:.4f}\\n')\n",
    "\n",
    "    # Early Stopping Check\n",
    "    if epoch_loss_val < min_val_loss:\n",
    "        min_val_loss = epoch_loss_val\n",
    "        best_model = model\n",
    "        print(\"Best model\")\n",
    "        \n",
    "print(\"Training complete.\")"
   ]
  },
  {
   "cell_type": "code",
   "execution_count": 12,
   "id": "42a24c9b-e7b1-4e5b-9c56-e882f5aefcf4",
   "metadata": {},
   "outputs": [
    {
     "name": "stdout",
     "output_type": "stream",
     "text": [
      "Training Accuracy: 0.1253\n",
      "Validation Accuracy: 0.0086\n"
     ]
    },
    {
     "data": {
      "text/plain": [
       "0.008613782051282052"
      ]
     },
     "execution_count": 12,
     "metadata": {},
     "output_type": "execute_result"
    }
   ],
   "source": [
    "# Training Evaluation\n",
    "evaluate_model(best_model, train_loader, \"Training\")\n",
    "\n",
    "# Validation Evaluation\n",
    "evaluate_model(best_model, val_loader, \"Validation\")\n",
    "\n",
    "# Testing Evaluation\n",
    "#evaluate_model(model, test_loader, \"Testing\")"
   ]
  },
  {
   "cell_type": "code",
   "execution_count": 13,
   "id": "b44cf16f-3ec8-4fc5-bc51-2afb6ac3dda5",
   "metadata": {},
   "outputs": [],
   "source": [
    "final_model_path = os.path.join(checkpoint_dir, 'tiny_imagenet_cnn.pth')\n",
    "torch.save(best_model.state_dict(), final_model_path)"
   ]
  },
  {
   "cell_type": "code",
   "execution_count": 14,
   "id": "75e74f22-8430-4123-a3a4-4d1f2b2a53ef",
   "metadata": {},
   "outputs": [
    {
     "data": {
      "image/png": "[encoded data removed]",
      "text/plain": [
       "<Figure size 1000x500 with 1 Axes>"
      ]
     },
     "metadata": {},
     "output_type": "display_data"
    }
   ],
   "source": [
    "plt.figure(figsize=(10, 5))\n",
    "plt.plot(epoch_listings, train_loss_list, label='Training Loss')\n",
    "plt.plot(epoch_listings, val_loss_list, label='Validation Loss', linestyle='dashed')\n",
    "plt.xlabel(\"Epoch\")\n",
    "plt.ylabel(\"Loss\")\n",
    "plt.legend()\n",
    "plt.title(\"Training vs Validation Loss\")\n",
    "plt.show()"
   ]
  },
  {
   "cell_type": "code",
   "execution_count": 15,
   "id": "ea4aac76-37bc-4d42-b1f9-43dc184ad7a7",
   "metadata": {},
   "outputs": [
    {
     "data": {
      "image/png": "[encoded data removed]",
      "text/plain": [
       "<Figure size 640x480 with 1 Axes>"
      ]
     },
     "metadata": {},
     "output_type": "display_data"
    }
   ],
   "source": [
    "plt.plot(epoch_listings, train_acc_list, label=\"Train Accuracy\")\n",
    "plt.plot(epoch_listings, val_acc_list, label=\"Validation Accuracy\")\n",
    "#plt.plot(epoch_listings, test_acc_list, label=\"Test Accuracy\")\n",
    "plt.xlabel(\"Epoch\")\n",
    "plt.ylabel(\"Accuracy\")\n",
    "plt.legend()\n",
    "plt.title(\"Training Progress\")\n",
    "plt.show()"
   ]
  },
  {
   "cell_type": "code",
   "execution_count": 16,
   "id": "62175b1e-3fcd-412a-b152-03f99471488e",
   "metadata": {},
   "outputs": [],
   "source": [
    "best_model.load_state_dict(torch.load(final_model_path, map_location=device))  # Load model to the correct device\n",
    "best_model.to(device)\n",
    "best_model.eval()\n",
    "\n",
    "def predict_images(image_paths):\n",
    "    predictions = {}\n",
    "    for image_path in image_paths:\n",
    "        image = Image.open(image_path)\n",
    "        image = val_transforms(image).unsqueeze(0).to(device)\n",
    "        with torch.no_grad():\n",
    "            output = best_model(image)\n",
    "            _, predicted_class = torch.max(output, 1)\n",
    "        predictions[image_path] = train_dataset.dataset.classes[predicted_class.item()]\n",
    "    return predictions\n"
   ]
  },
  {
   "cell_type": "markdown",
   "id": "a12a0dc9-9f2f-4587-96b1-0d1873f48994",
   "metadata": {},
   "source": [
    "## "
   ]
  },
  {
   "cell_type": "code",
   "execution_count": null,
   "id": "af8e4beb-9d36-47c2-bd03-7b61b2a8003c",
   "metadata": {},
   "outputs": [],
   "source": []
  }
 ],
 "metadata": {
  "kernelspec": {
   "display_name": "Python 3 (ipykernel)",
   "language": "python",
   "name": "python3"
  },
  "language_info": {
   "codemirror_mode": {
    "name": "ipython",
    "version": 3
   },
   "file_extension": ".py",
   "mimetype": "text/x-python",
   "name": "python",
   "nbconvert_exporter": "python",
   "pygments_lexer": "ipython3",
   "version": "3.11.9"
  }
 },
 "nbformat": 4,
 "nbformat_minor": 5
}
