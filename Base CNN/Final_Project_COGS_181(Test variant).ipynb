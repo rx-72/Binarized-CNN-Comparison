{
 "cells": [
  {
   "cell_type": "code",
   "execution_count": 1,
   "id": "3cef0327-3c5a-4faa-bbf4-19234e40ce12",
   "metadata": {},
   "outputs": [],
   "source": [
    "import torch\n",
    "import torch.nn as nn\n",
    "import torch.optim as optim\n",
    "import torch.nn.functional as F\n",
    "from torch.utils.data import DataLoader\n",
    "from torchvision import datasets, transforms, models\n",
    "import torchvision.models as models\n",
    "import torch.cuda.amp as amp\n",
    "import os\n",
    "import shutil\n",
    "import zipfile\n",
    "from PIL import Image\n",
    "import matplotlib.pyplot as plt\n",
    "import shutil\n",
    "import numpy as np\n",
    "import gc\n",
    "import IPython\n",
    "import os\n",
    "os.environ['PYTORCH_CUDA_ALLOC_CONF'] = 'expandable_segments:True'\n",
    "\n",
    "checkpoint_dir = \"model_checkpoints\"\n",
    "if os.path.exists(checkpoint_dir):\n",
    "    shutil.rmtree(checkpoint_dir)\n",
    "os.makedirs(checkpoint_dir, exist_ok=True)\n",
    "torch.cuda.empty_cache()"
   ]
  },
  {
   "cell_type": "code",
   "execution_count": 2,
   "id": "45b27e9c-4fd7-4875-8fb7-e57fa1d08a8f",
   "metadata": {},
   "outputs": [],
   "source": [
    "#seed = 42\n",
    "#torch.manual_seed(seed)\n",
    "#np.random.seed(seed)"
   ]
  },
  {
   "cell_type": "code",
   "execution_count": 3,
   "id": "ae546394-da55-4c64-8ae5-77ca1f814fd3",
   "metadata": {},
   "outputs": [
    {
     "name": "stdout",
     "output_type": "stream",
     "text": [
      "Using device: cuda\n"
     ]
    }
   ],
   "source": [
    "device = torch.device('cuda' if torch.cuda.is_available() else 'cpu')\n",
    "print(f'Using device: {device}')"
   ]
  },
  {
   "cell_type": "code",
   "execution_count": 4,
   "id": "c7b9f680-d62f-43fc-8e71-999498499d76",
   "metadata": {},
   "outputs": [
    {
     "name": "stdout",
     "output_type": "stream",
     "text": [
      "After Clearing - Free memory: 11034.06 MB / 11172.19 MB\n"
     ]
    }
   ],
   "source": [
    "def check_and_clear_cuda_memory():\n",
    "    free_mem, total_mem = torch.cuda.mem_get_info()\n",
    "    print(f\"Before Clearing - Free memory: {free_mem / 1024**2:.2f} MB / {total_mem / 1024**2:.2f} MB\")\n",
    "\n",
    "    gc.collect()\n",
    "    torch.cuda.empty_cache()\n",
    "    IPython.display.clear_output(wait=True)  # Clear Jupyter output\n",
    "\n",
    "    free_mem, total_mem = torch.cuda.mem_get_info()\n",
    "    print(f\"After Clearing - Free memory: {free_mem / 1024**2:.2f} MB / {total_mem / 1024**2:.2f} MB\")\n",
    "\n",
    "check_and_clear_cuda_memory()"
   ]
  },
  {
   "cell_type": "code",
   "execution_count": 5,
   "id": "b9f1888f-2616-4bcf-a493-487d30439209",
   "metadata": {},
   "outputs": [],
   "source": [
    "data_dir = \"tiny-imagenet-200\""
   ]
  },
  {
   "cell_type": "code",
   "execution_count": 6,
   "id": "cd763021-e61d-4200-bd03-cabdff460990",
   "metadata": {},
   "outputs": [],
   "source": [
    "train_transforms = transforms.Compose([\n",
    "    transforms.RandomResizedCrop(224),\n",
    "    transforms.RandomHorizontalFlip(),\n",
    "    transforms.RandomVerticalFlip(p=0.2),\n",
    "    transforms.ColorJitter(brightness=0.2, contrast=0.2, saturation=0.2, hue=0.1),\n",
    "    transforms.RandomRotation(15),\n",
    "    transforms.RandomAffine(degrees=15, translate=(0.1, 0.1), scale=(0.9, 1.1), shear=10),\n",
    "    transforms.RandomPerspective(distortion_scale=0.2, p=0.5),\n",
    "    transforms.RandomGrayscale(p=0.1),\n",
    "    transforms.ToTensor(),\n",
    "    transforms.Normalize(mean=[0.485, 0.456, 0.406], std=[0.229, 0.224, 0.225]),\n",
    "    transforms.GaussianBlur(kernel_size=3, sigma=(0.1, 2.0)),\n",
    "    transforms.RandomErasing(p=0.5, scale=(0.02, 0.2), ratio=(0.3, 3.3))\n",
    "])\n",
    "\n",
    "\n",
    "test_transforms = transforms.Compose([\n",
    "    transforms.Resize(256),\n",
    "    transforms.CenterCrop(224),\n",
    "    transforms.ToTensor(),\n",
    "    transforms.Normalize(mean=[0.485, 0.456, 0.406], std=[0.229, 0.224, 0.225])\n",
    "])"
   ]
  },
  {
   "cell_type": "code",
   "execution_count": 7,
   "id": "13d893c3-4cec-4301-9075-3c582afdfcb8",
   "metadata": {},
   "outputs": [
    {
     "name": "stdout",
     "output_type": "stream",
     "text": [
      "<class 'PIL.JpegImagePlugin.JpegImageFile'>\n"
     ]
    }
   ],
   "source": [
    "from PIL import Image\n",
    "img_path = \"tiny-imagenet-200/train/n01443537/images/n01443537_0.JPEG\"\n",
    "img = Image.open(img_path)\n",
    "print(type(img))"
   ]
  },
  {
   "cell_type": "code",
   "execution_count": 8,
   "id": "2b668f16-630b-411e-9bcf-0809603b69e8",
   "metadata": {},
   "outputs": [],
   "source": [
    "#subset_size = 8000  # Adjust size , max is 100000\n",
    "#train_dataset_full = datasets.ImageFolder(os.path.join(data_dir, 'train'), transform=train_transforms)\n",
    "#indices = np.random.choice(len(train_dataset_full), subset_size, replace=False)  # Fixed subset indices\n",
    "#train_dataset = torch.utils.data.Subset(train_dataset_full, indices)\n",
    "#train_dataset = torch.utils.data.Subset(train_dataset_full, range(subset_size))\n",
    "train_dataset = datasets.ImageFolder(os.path.join(data_dir, 'train'), transform=train_transforms)\n",
    "test_dataset = datasets.ImageFolder(os.path.join(data_dir, 'test'), transform=test_transforms)"
   ]
  },
  {
   "cell_type": "code",
   "execution_count": 9,
   "id": "f757ada0-81af-4963-b5b4-b694b495e64f",
   "metadata": {},
   "outputs": [],
   "source": [
    "def create_dataloaders(batch_size):\n",
    "    train_loader = DataLoader(train_dataset, batch_size=batch_size, shuffle=True, num_workers=8,  pin_memory=True, drop_last=True)\n",
    "    test_loader = DataLoader(test_dataset, batch_size=batch_size, shuffle=False, num_workers=8,  pin_memory=True,  drop_last=True)\n",
    "    return train_loader, test_loader"
   ]
  },
  {
   "cell_type": "code",
   "execution_count": 10,
   "id": "1b463564-2b49-4999-b57c-bd537439efc2",
   "metadata": {},
   "outputs": [
    {
     "data": {
      "text/plain": [
       "CNN(\n",
       "  (conv1): Conv2d(3, 64, kernel_size=(7, 7), stride=(2, 2), padding=(3, 3), bias=False)\n",
       "  (bn1): BatchNorm2d(64, eps=1e-05, momentum=0.1, affine=True, track_running_stats=True)\n",
       "  (conv2): Conv2d(64, 64, kernel_size=(3, 3), stride=(1, 1), padding=(1, 1), bias=False)\n",
       "  (bn2): BatchNorm2d(64, eps=1e-05, momentum=0.1, affine=True, track_running_stats=True)\n",
       "  (conv3): Conv2d(64, 128, kernel_size=(3, 3), stride=(2, 2), padding=(1, 1), bias=False)\n",
       "  (bn3): BatchNorm2d(128, eps=1e-05, momentum=0.1, affine=True, track_running_stats=True)\n",
       "  (conv4): Conv2d(128, 128, kernel_size=(3, 3), stride=(1, 1), padding=(1, 1), bias=False)\n",
       "  (bn4): BatchNorm2d(128, eps=1e-05, momentum=0.1, affine=True, track_running_stats=True)\n",
       "  (conv5): Conv2d(128, 256, kernel_size=(3, 3), stride=(2, 2), padding=(1, 1), bias=False)\n",
       "  (bn5): BatchNorm2d(256, eps=1e-05, momentum=0.1, affine=True, track_running_stats=True)\n",
       "  (conv6): Conv2d(256, 256, kernel_size=(3, 3), stride=(1, 1), padding=(1, 1), bias=False)\n",
       "  (bn6): BatchNorm2d(256, eps=1e-05, momentum=0.1, affine=True, track_running_stats=True)\n",
       "  (conv7): Conv2d(256, 512, kernel_size=(3, 3), stride=(2, 2), padding=(1, 1), bias=False)\n",
       "  (bn7): BatchNorm2d(512, eps=1e-05, momentum=0.1, affine=True, track_running_stats=True)\n",
       "  (conv8): Conv2d(512, 512, kernel_size=(3, 3), stride=(1, 1), padding=(1, 1), bias=False)\n",
       "  (bn8): BatchNorm2d(512, eps=1e-05, momentum=0.1, affine=True, track_running_stats=True)\n",
       "  (dropout): Dropout(p=0.5, inplace=False)\n",
       "  (adaptive_pool): AdaptiveAvgPool2d(output_size=(1, 1))\n",
       "  (fc1): Linear(in_features=512, out_features=512, bias=True)\n",
       "  (fc2): Linear(in_features=512, out_features=200, bias=True)\n",
       ")"
      ]
     },
     "execution_count": 10,
     "metadata": {},
     "output_type": "execute_result"
    }
   ],
   "source": [
    "class CNN(nn.Module):\n",
    "    def __init__(self):\n",
    "        super(CNN, self).__init__()\n",
    "        self.conv1 = nn.Conv2d(3, 64, kernel_size=7, stride=2, padding=3, bias=False)\n",
    "        self.bn1 = nn.BatchNorm2d(64)\n",
    "        self.conv2 = nn.Conv2d(64, 64, kernel_size=3, stride=1, padding=1, bias=False)\n",
    "        self.bn2 = nn.BatchNorm2d(64)\n",
    "\n",
    "        self.conv3 = nn.Conv2d(64, 128, kernel_size=3, stride=2, padding=1, bias=False)\n",
    "        self.bn3 = nn.BatchNorm2d(128)\n",
    "        self.conv4 = nn.Conv2d(128, 128, kernel_size=3, stride=1, padding=1, bias=False)\n",
    "        self.bn4 = nn.BatchNorm2d(128)\n",
    "\n",
    "        self.conv5 = nn.Conv2d(128, 256, kernel_size=3, stride=2, padding=1, bias=False)\n",
    "        self.bn5 = nn.BatchNorm2d(256)\n",
    "        self.conv6 = nn.Conv2d(256, 256, kernel_size=3, stride=1, padding=1, bias=False)\n",
    "        self.bn6 = nn.BatchNorm2d(256)\n",
    "\n",
    "        self.conv7 = nn.Conv2d(256, 512, kernel_size=3, stride=2, padding=1, bias=False)\n",
    "        self.bn7 = nn.BatchNorm2d(512)\n",
    "        self.conv8 = nn.Conv2d(512, 512, kernel_size=3, stride=1, padding=1, bias=False)\n",
    "        self.bn8 = nn.BatchNorm2d(512)\n",
    "\n",
    "        self.dropout = nn.Dropout(0.5)\n",
    "        self.adaptive_pool = nn.AdaptiveAvgPool2d((1, 1))\n",
    "\n",
    "        self.fc1 = nn.Linear(512, 512)\n",
    "        self.fc2 = nn.Linear(512, 200)\n",
    "\n",
    "        self.alpha_conv = nn.Parameter(torch.full((1,), 0.01))  # Learnable α for conv layers\n",
    "        self.alpha_fc = nn.Parameter(torch.full((1,), 0.01))\n",
    "\n",
    "    def forward(self, x):\n",
    "        x = F.prelu(self.bn1(self.conv1(x)), self.alpha_conv)\n",
    "        x = F.prelu(self.bn2(self.conv2(x)), self.alpha_conv)\n",
    "\n",
    "        x = F.prelu(self.bn3(self.conv3(x)), self.alpha_conv)\n",
    "        x = F.prelu(self.bn4(self.conv4(x)), self.alpha_conv)\n",
    "\n",
    "        x = F.prelu(self.bn5(self.conv5(x)), self.alpha_conv)\n",
    "        x = F.prelu(self.bn6(self.conv6(x)), self.alpha_conv)\n",
    "\n",
    "        x = F.prelu(self.bn7(self.conv7(x)), self.alpha_conv)\n",
    "        x = F.prelu(self.bn8(self.conv8(x)), self.alpha_conv)\n",
    "\n",
    "        x = self.adaptive_pool(x)\n",
    "        x = torch.flatten(x, start_dim=1)\n",
    "        \n",
    "        x = self.dropout(F.prelu(self.fc1(x), self.alpha_fc))\n",
    "        x = self.fc2(x)\n",
    "\n",
    "        return F.log_softmax(x, dim=1)\n",
    "\n",
    "# Initialize model with Kaiming initialization\n",
    "def init_weights(m):\n",
    "    if isinstance(m, nn.Conv2d) or isinstance(m, nn.Linear):\n",
    "        nn.init.kaiming_normal_(m.weight, nonlinearity='relu')\n",
    "        if m.bias is not None:\n",
    "            nn.init.zeros_(m.bias)\n",
    "\n",
    "CNN().to(device)"
   ]
  },
  {
   "cell_type": "code",
   "execution_count": 11,
   "id": "89e3f297-a679-4cd7-86b9-940267acd407",
   "metadata": {},
   "outputs": [],
   "source": [
    "def evaluate_model(model, data_loader, dataset_name=\"Validation\"):\n",
    "    model.eval()\n",
    "    correct = 0\n",
    "    total = 0\n",
    "    \n",
    "    with torch.no_grad():\n",
    "        for inputs, labels in data_loader:\n",
    "            inputs, labels = inputs.to(device), labels.to(device)\n",
    "            outputs = model(inputs)\n",
    "            \n",
    "            _, predicted = torch.max(outputs, 1) #Accuracy computation\n",
    "            total += labels.size(0) \n",
    "            correct += (predicted == labels).sum().item()\n",
    "\n",
    "    accuracy = correct / total\n",
    "    print(f'{dataset_name} Accuracy: {accuracy:.4f}')\n",
    "    return accuracy\n",
    "\n",
    "train_acc_list, test_acc_list, train_loss_list, test_loss_list, epoch_listings = [], [], [], [], []"
   ]
  },
  {
   "cell_type": "code",
   "execution_count": 12,
   "id": "907988b8-74d7-4ce2-9418-08df842ff380",
   "metadata": {},
   "outputs": [
    {
     "name": "stdout",
     "output_type": "stream",
     "text": [
      "Epoch 1/50, Train Loss: 5.1526, Test Loss: 5.5776\n",
      "Train Accuracy: 0.0188, Test Accuracy: 0.0003\n",
      "\n",
      "Best model\n",
      "Epoch 2/50, Train Loss: 4.9761, Test Loss: 6.0109\n",
      "Train Accuracy: 0.0290, Test Accuracy: 0.0009\n",
      "\n",
      "Epoch 3/50, Train Loss: 4.8306, Test Loss: 6.3533\n",
      "Train Accuracy: 0.0398, Test Accuracy: 0.0018\n",
      "\n",
      "Epoch 4/50, Train Loss: 4.7134, Test Loss: 7.1188\n",
      "Train Accuracy: 0.0502, Test Accuracy: 0.0015\n",
      "\n",
      "Epoch 5/50, Train Loss: 4.6147, Test Loss: 7.0813\n",
      "Train Accuracy: 0.0587, Test Accuracy: 0.0050\n",
      "\n",
      "Epoch 6/50, Train Loss: 4.5641, Test Loss: 7.4502\n",
      "Train Accuracy: 0.0644, Test Accuracy: 0.0053\n",
      "\n",
      "Epoch 7/50, Train Loss: 4.5205, Test Loss: 8.2023\n",
      "Train Accuracy: 0.0690, Test Accuracy: 0.0041\n",
      "\n",
      "Epoch 8/50, Train Loss: 4.4773, Test Loss: 7.6717\n",
      "Train Accuracy: 0.0752, Test Accuracy: 0.0054\n",
      "\n",
      "Epoch 9/50, Train Loss: 4.4309, Test Loss: 8.2379\n",
      "Train Accuracy: 0.0797, Test Accuracy: 0.0047\n",
      "\n",
      "Epoch 10/50, Train Loss: 4.4086, Test Loss: 7.5207\n",
      "Train Accuracy: 0.0820, Test Accuracy: 0.0055\n",
      "\n",
      "Epoch 11/50, Train Loss: 4.3859, Test Loss: 8.2881\n",
      "Train Accuracy: 0.0850, Test Accuracy: 0.0048\n",
      "\n",
      "Epoch 12/50, Train Loss: 4.3743, Test Loss: 8.3466\n",
      "Train Accuracy: 0.0866, Test Accuracy: 0.0044\n",
      "\n",
      "Epoch 13/50, Train Loss: 4.3438, Test Loss: 7.8944\n",
      "Train Accuracy: 0.0904, Test Accuracy: 0.0054\n",
      "\n",
      "Epoch 14/50, Train Loss: 4.3369, Test Loss: 8.0989\n",
      "Train Accuracy: 0.0911, Test Accuracy: 0.0056\n",
      "\n",
      "Epoch 15/50, Train Loss: 4.3263, Test Loss: 8.2410\n",
      "Train Accuracy: 0.0936, Test Accuracy: 0.0054\n",
      "\n",
      "Epoch 16/50, Train Loss: 4.3235, Test Loss: 8.2223\n",
      "Train Accuracy: 0.0926, Test Accuracy: 0.0053\n",
      "\n",
      "Epoch 17/50, Train Loss: 4.3094, Test Loss: 8.0427\n",
      "Train Accuracy: 0.0940, Test Accuracy: 0.0057\n",
      "\n",
      "Epoch 18/50, Train Loss: 4.2989, Test Loss: 8.2212\n",
      "Train Accuracy: 0.0952, Test Accuracy: 0.0051\n",
      "\n",
      "Epoch 19/50, Train Loss: 4.2967, Test Loss: 8.3049\n",
      "Train Accuracy: 0.0959, Test Accuracy: 0.0053\n",
      "\n",
      "Epoch 20/50, Train Loss: 4.2939, Test Loss: 8.1368\n",
      "Train Accuracy: 0.0965, Test Accuracy: 0.0063\n",
      "\n",
      "Epoch 21/50, Train Loss: 4.2866, Test Loss: 8.2326\n",
      "Train Accuracy: 0.0969, Test Accuracy: 0.0063\n",
      "\n",
      "Epoch 22/50, Train Loss: 4.2836, Test Loss: 8.3888\n",
      "Train Accuracy: 0.0997, Test Accuracy: 0.0055\n",
      "\n",
      "Epoch 23/50, Train Loss: 4.2790, Test Loss: 8.2878\n",
      "Train Accuracy: 0.0977, Test Accuracy: 0.0056\n",
      "\n",
      "Epoch 24/50, Train Loss: 4.2796, Test Loss: 8.2303\n",
      "Train Accuracy: 0.0989, Test Accuracy: 0.0058\n",
      "\n",
      "Epoch 25/50, Train Loss: 4.2723, Test Loss: 8.2752\n",
      "Train Accuracy: 0.0986, Test Accuracy: 0.0057\n",
      "\n",
      "Epoch 26/50, Train Loss: 4.2753, Test Loss: 8.3152\n",
      "Train Accuracy: 0.0985, Test Accuracy: 0.0057\n",
      "\n",
      "Epoch 27/50, Train Loss: 4.2723, Test Loss: 8.1228\n",
      "Train Accuracy: 0.0989, Test Accuracy: 0.0060\n",
      "\n",
      "Epoch 28/50, Train Loss: 4.2696, Test Loss: 8.2986\n",
      "Train Accuracy: 0.0992, Test Accuracy: 0.0060\n",
      "\n",
      "Epoch 29/50, Train Loss: 4.2681, Test Loss: 8.2541\n",
      "Train Accuracy: 0.1001, Test Accuracy: 0.0057\n",
      "\n",
      "Epoch 30/50, Train Loss: 4.2657, Test Loss: 8.2898\n",
      "Train Accuracy: 0.1005, Test Accuracy: 0.0056\n",
      "\n",
      "Epoch 31/50, Train Loss: 4.2695, Test Loss: 8.2957\n",
      "Train Accuracy: 0.0992, Test Accuracy: 0.0062\n",
      "\n",
      "Epoch 32/50, Train Loss: 4.2644, Test Loss: 8.3418\n",
      "Train Accuracy: 0.0998, Test Accuracy: 0.0058\n",
      "\n",
      "Epoch 33/50, Train Loss: 4.2627, Test Loss: 8.3068\n",
      "Train Accuracy: 0.1019, Test Accuracy: 0.0058\n",
      "\n",
      "Epoch 34/50, Train Loss: 4.2620, Test Loss: 8.3154\n",
      "Train Accuracy: 0.0997, Test Accuracy: 0.0057\n",
      "\n",
      "Epoch 35/50, Train Loss: 4.2684, Test Loss: 8.3173\n",
      "Train Accuracy: 0.0979, Test Accuracy: 0.0060\n",
      "\n",
      "Epoch 36/50, Train Loss: 4.2651, Test Loss: 8.3066\n",
      "Train Accuracy: 0.1001, Test Accuracy: 0.0058\n",
      "\n",
      "Epoch 37/50, Train Loss: 4.2638, Test Loss: 8.3225\n",
      "Train Accuracy: 0.0996, Test Accuracy: 0.0059\n",
      "\n",
      "Epoch 38/50, Train Loss: 4.2650, Test Loss: 8.2780\n",
      "Train Accuracy: 0.1008, Test Accuracy: 0.0060\n",
      "\n",
      "Epoch 39/50, Train Loss: 4.2650, Test Loss: 8.3266\n",
      "Train Accuracy: 0.1001, Test Accuracy: 0.0056\n",
      "\n",
      "Epoch 40/50, Train Loss: 4.2679, Test Loss: 8.3209\n",
      "Train Accuracy: 0.1001, Test Accuracy: 0.0060\n",
      "\n",
      "Epoch 41/50, Train Loss: 4.2652, Test Loss: 8.3011\n",
      "Train Accuracy: 0.0994, Test Accuracy: 0.0062\n",
      "\n",
      "Epoch 42/50, Train Loss: 4.2661, Test Loss: 8.2644\n",
      "Train Accuracy: 0.0994, Test Accuracy: 0.0061\n",
      "\n",
      "Epoch 43/50, Train Loss: 4.2672, Test Loss: 8.3046\n",
      "Train Accuracy: 0.0995, Test Accuracy: 0.0057\n",
      "\n",
      "Epoch 44/50, Train Loss: 4.2682, Test Loss: 8.3618\n",
      "Train Accuracy: 0.0987, Test Accuracy: 0.0059\n",
      "\n",
      "Epoch 45/50, Train Loss: 4.2664, Test Loss: 8.3329\n",
      "Train Accuracy: 0.0996, Test Accuracy: 0.0056\n",
      "\n",
      "Epoch 46/50, Train Loss: 4.2631, Test Loss: 8.3301\n",
      "Train Accuracy: 0.1000, Test Accuracy: 0.0059\n",
      "\n",
      "Epoch 47/50, Train Loss: 4.2627, Test Loss: 8.3460\n",
      "Train Accuracy: 0.0996, Test Accuracy: 0.0059\n",
      "\n",
      "Epoch 48/50, Train Loss: 4.2635, Test Loss: 8.3308\n",
      "Train Accuracy: 0.1000, Test Accuracy: 0.0058\n",
      "\n",
      "Epoch 49/50, Train Loss: 4.2687, Test Loss: 8.2896\n",
      "Train Accuracy: 0.0995, Test Accuracy: 0.0060\n",
      "\n",
      "Epoch 50/50, Train Loss: 4.2649, Test Loss: 8.3374\n",
      "Train Accuracy: 0.0991, Test Accuracy: 0.0057\n",
      "\n",
      "Training complete.\n"
     ]
    }
   ],
   "source": [
    "train_acc_list, test_acc_list, train_loss_list, test_loss_list, epoch_listings = [], [], [], [], []\n",
    "\n",
    "model = CNN().to(device)\n",
    "criterion = nn.CrossEntropyLoss()\n",
    "optimizer = optim.Adam(model.parameters(), lr=0.00005, weight_decay=5e-4)\n",
    "scheduler = optim.lr_scheduler.StepLR(optimizer, step_size=4, gamma=0.5)\n",
    "train_loader, test_loader = create_dataloaders(256)  # Assume a function for this\n",
    "\n",
    "num_epochs = 50\n",
    "min_test_loss = float('inf')\n",
    "\n",
    "for epoch in range(num_epochs):\n",
    "    epoch_listings.append(epoch)\n",
    "    model.train()\n",
    "    running_loss_train = 0.0\n",
    "    correct_train, total_train = 0, 0\n",
    "\n",
    "    for inputs, labels in train_loader:\n",
    "        inputs, labels = inputs.to(device), labels.to(device)\n",
    "        optimizer.zero_grad()\n",
    "\n",
    "        outputs = model(inputs)\n",
    "        loss = criterion(outputs, labels)\n",
    "        loss.backward()\n",
    "        optimizer.step()\n",
    "\n",
    "        running_loss_train += loss.item() * inputs.size(0)\n",
    "        _, predicted = torch.max(outputs, 1)\n",
    "        correct_train += (predicted == labels).sum().item()\n",
    "        total_train += labels.size(0)\n",
    "\n",
    "    scheduler.step()\n",
    "\n",
    "    epoch_loss_train = running_loss_train / len(train_loader.dataset)\n",
    "    train_accuracy = correct_train / total_train\n",
    "\n",
    "    train_acc_list.append(train_accuracy)\n",
    "    train_loss_list.append(epoch_loss_train)\n",
    "\n",
    "    # test phase\n",
    "    model.eval()\n",
    "    running_loss_test = 0.0\n",
    "    correct_test, total_test = 0, 0\n",
    "\n",
    "    with torch.no_grad():\n",
    "        for inputs, labels in test_loader:\n",
    "            inputs, labels = inputs.to(device), labels.to(device)\n",
    "            outputs = model(inputs)\n",
    "            loss = criterion(outputs, labels)\n",
    "            running_loss_test += loss.item() * inputs.size(0)\n",
    "\n",
    "            _, predicted = torch.max(outputs, 1)\n",
    "            correct_test += (predicted == labels).sum().item()\n",
    "            total_test += labels.size(0)\n",
    "\n",
    "    epoch_loss_test = running_loss_test / len(test_loader.dataset)\n",
    "    test_accuracy = correct_test / total_test\n",
    "\n",
    "    test_acc_list.append(test_accuracy)\n",
    "    test_loss_list.append(epoch_loss_test)\n",
    "\n",
    "    print(f'Epoch {epoch+1}/{num_epochs}, Train Loss: {epoch_loss_train:.4f}, Test Loss: {epoch_loss_test:.4f}')\n",
    "    print(f'Train Accuracy: {train_accuracy:.4f}, Test Accuracy: {test_accuracy:.4f}\\n')\n",
    "\n",
    "    # Early Stopping Check\n",
    "    if epoch_loss_test < min_test_loss:\n",
    "        min_test_loss = epoch_loss_test\n",
    "        best_model = model\n",
    "        print(\"Best model\")\n",
    "        \n",
    "print(\"Training complete.\")"
   ]
  },
  {
   "cell_type": "code",
   "execution_count": 13,
   "id": "42a24c9b-e7b1-4e5b-9c56-e882f5aefcf4",
   "metadata": {},
   "outputs": [
    {
     "name": "stdout",
     "output_type": "stream",
     "text": [
      "Training Accuracy: 0.1214\n",
      "Testing Accuracy: 0.0057\n"
     ]
    },
    {
     "data": {
      "text/plain": [
       "0.005709134615384615"
      ]
     },
     "execution_count": 13,
     "metadata": {},
     "output_type": "execute_result"
    }
   ],
   "source": [
    "# Training Evaluation\n",
    "evaluate_model(best_model, train_loader, \"Training\")\n",
    "\n",
    "# Validation Evaluation\n",
    "evaluate_model(best_model, test_loader, \"Testing\")"
   ]
  },
  {
   "cell_type": "code",
   "execution_count": 14,
   "id": "b44cf16f-3ec8-4fc5-bc51-2afb6ac3dda5",
   "metadata": {},
   "outputs": [],
   "source": [
    "final_model_path = os.path.join(checkpoint_dir, 'tiny_imagenet_cnn.pth')\n",
    "torch.save(best_model.state_dict(), final_model_path)"
   ]
  },
  {
   "cell_type": "code",
   "execution_count": 15,
   "id": "75e74f22-8430-4123-a3a4-4d1f2b2a53ef",
   "metadata": {},
   "outputs": [
    {
     "data": {
      "image/png": "[encoded data removed]",
      "text/plain": [
       "<Figure size 1000x500 with 1 Axes>"
      ]
     },
     "metadata": {},
     "output_type": "display_data"
    }
   ],
   "source": [
    "plt.figure(figsize=(10, 5))\n",
    "plt.plot(epoch_listings, train_loss_list, label='Training Loss')\n",
    "plt.plot(epoch_listings, test_loss_list, label='Testing Loss', linestyle='dashed')\n",
    "plt.xlabel(\"Epoch\")\n",
    "plt.ylabel(\"Loss\")\n",
    "plt.legend()\n",
    "plt.title(\"Training vs Validation Loss\")\n",
    "plt.show()"
   ]
  },
  {
   "cell_type": "code",
   "execution_count": 16,
   "id": "ea4aac76-37bc-4d42-b1f9-43dc184ad7a7",
   "metadata": {},
   "outputs": [
    {
     "data": {
      "image/png": "[encoded data removed]",
      "text/plain": [
       "<Figure size 640x480 with 1 Axes>"
      ]
     },
     "metadata": {},
     "output_type": "display_data"
    }
   ],
   "source": [
    "plt.plot(epoch_listings, train_acc_list, label=\"Train Accuracy\")\n",
    "plt.plot(epoch_listings, test_acc_list, label=\"Test Accuracy\")\n",
    "#plt.plot(epoch_listings, test_acc_list, label=\"Test Accuracy\")\n",
    "plt.xlabel(\"Epoch\")\n",
    "plt.ylabel(\"Accuracy\")\n",
    "plt.legend()\n",
    "plt.title(\"Training Progress\")\n",
    "plt.show()"
   ]
  },
  {
   "cell_type": "code",
   "execution_count": null,
   "id": "d981321a-a320-4ac0-a7f1-24cb8f01cff6",
   "metadata": {},
   "outputs": [],
   "source": []
  }
 ],
 "metadata": {
  "kernelspec": {
   "display_name": "Python 3 (ipykernel)",
   "language": "python",
   "name": "python3"
  },
  "language_info": {
   "codemirror_mode": {
    "name": "ipython",
    "version": 3
   },
   "file_extension": ".py",
   "mimetype": "text/x-python",
   "name": "python",
   "nbconvert_exporter": "python",
   "pygments_lexer": "ipython3",
   "version": "3.11.9"
  }
 },
 "nbformat": 4,
 "nbformat_minor": 5
}
